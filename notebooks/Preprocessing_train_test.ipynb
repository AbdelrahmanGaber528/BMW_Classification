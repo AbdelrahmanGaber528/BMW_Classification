{
 "cells": [
  {
   "cell_type": "markdown",
   "id": "3c66e782",
   "metadata": {},
   "source": [
    "# Split Data "
   ]
  },
  {
   "cell_type": "code",
   "execution_count": 1,
   "id": "268aa766",
   "metadata": {},
   "outputs": [],
   "source": [
    "import pandas as pd \n",
    "import numpy as np \n",
    "import joblib"
   ]
  },
  {
   "cell_type": "code",
   "execution_count": 2,
   "id": "bd8d0416",
   "metadata": {},
   "outputs": [
    {
     "data": {
      "text/html": [
       "<div>\n",
       "<style scoped>\n",
       "    .dataframe tbody tr th:only-of-type {\n",
       "        vertical-align: middle;\n",
       "    }\n",
       "\n",
       "    .dataframe tbody tr th {\n",
       "        vertical-align: top;\n",
       "    }\n",
       "\n",
       "    .dataframe thead th {\n",
       "        text-align: right;\n",
       "    }\n",
       "</style>\n",
       "<table border=\"1\" class=\"dataframe\">\n",
       "  <thead>\n",
       "    <tr style=\"text-align: right;\">\n",
       "      <th></th>\n",
       "      <th>Model</th>\n",
       "      <th>Year</th>\n",
       "      <th>Region</th>\n",
       "      <th>Color</th>\n",
       "      <th>Fuel_Type</th>\n",
       "      <th>Transmission</th>\n",
       "      <th>Engine_Size_L</th>\n",
       "      <th>Mileage_KM</th>\n",
       "      <th>Price_USD</th>\n",
       "      <th>Sales_Volume</th>\n",
       "      <th>Sales_Classification</th>\n",
       "    </tr>\n",
       "  </thead>\n",
       "  <tbody>\n",
       "    <tr>\n",
       "      <th>0</th>\n",
       "      <td>5 Series</td>\n",
       "      <td>2016</td>\n",
       "      <td>Asia</td>\n",
       "      <td>Red</td>\n",
       "      <td>Petrol</td>\n",
       "      <td>Manual</td>\n",
       "      <td>3.5</td>\n",
       "      <td>151748</td>\n",
       "      <td>98740</td>\n",
       "      <td>8300</td>\n",
       "      <td>High</td>\n",
       "    </tr>\n",
       "    <tr>\n",
       "      <th>1</th>\n",
       "      <td>i8</td>\n",
       "      <td>2013</td>\n",
       "      <td>North America</td>\n",
       "      <td>Red</td>\n",
       "      <td>Hybrid</td>\n",
       "      <td>Automatic</td>\n",
       "      <td>1.6</td>\n",
       "      <td>121671</td>\n",
       "      <td>79219</td>\n",
       "      <td>3428</td>\n",
       "      <td>Low</td>\n",
       "    </tr>\n",
       "    <tr>\n",
       "      <th>2</th>\n",
       "      <td>5 Series</td>\n",
       "      <td>2022</td>\n",
       "      <td>North America</td>\n",
       "      <td>Blue</td>\n",
       "      <td>Petrol</td>\n",
       "      <td>Automatic</td>\n",
       "      <td>4.5</td>\n",
       "      <td>10991</td>\n",
       "      <td>113265</td>\n",
       "      <td>6994</td>\n",
       "      <td>Low</td>\n",
       "    </tr>\n",
       "    <tr>\n",
       "      <th>3</th>\n",
       "      <td>X3</td>\n",
       "      <td>2024</td>\n",
       "      <td>Middle East</td>\n",
       "      <td>Blue</td>\n",
       "      <td>Petrol</td>\n",
       "      <td>Automatic</td>\n",
       "      <td>1.7</td>\n",
       "      <td>27255</td>\n",
       "      <td>60971</td>\n",
       "      <td>4047</td>\n",
       "      <td>Low</td>\n",
       "    </tr>\n",
       "    <tr>\n",
       "      <th>4</th>\n",
       "      <td>7 Series</td>\n",
       "      <td>2020</td>\n",
       "      <td>South America</td>\n",
       "      <td>Black</td>\n",
       "      <td>Diesel</td>\n",
       "      <td>Manual</td>\n",
       "      <td>2.1</td>\n",
       "      <td>122131</td>\n",
       "      <td>49898</td>\n",
       "      <td>3080</td>\n",
       "      <td>Low</td>\n",
       "    </tr>\n",
       "  </tbody>\n",
       "</table>\n",
       "</div>"
      ],
      "text/plain": [
       "      Model  Year         Region  Color Fuel_Type Transmission  Engine_Size_L  \\\n",
       "0  5 Series  2016           Asia    Red    Petrol       Manual            3.5   \n",
       "1        i8  2013  North America    Red    Hybrid    Automatic            1.6   \n",
       "2  5 Series  2022  North America   Blue    Petrol    Automatic            4.5   \n",
       "3        X3  2024    Middle East   Blue    Petrol    Automatic            1.7   \n",
       "4  7 Series  2020  South America  Black    Diesel       Manual            2.1   \n",
       "\n",
       "   Mileage_KM  Price_USD  Sales_Volume Sales_Classification  \n",
       "0      151748      98740          8300                 High  \n",
       "1      121671      79219          3428                  Low  \n",
       "2       10991     113265          6994                  Low  \n",
       "3       27255      60971          4047                  Low  \n",
       "4      122131      49898          3080                  Low  "
      ]
     },
     "execution_count": 2,
     "metadata": {},
     "output_type": "execute_result"
    }
   ],
   "source": [
    "df = pd.read_csv(\"BMW_Car_Sales_Classification.csv\")\n",
    "df.head()"
   ]
  },
  {
   "cell_type": "code",
   "execution_count": 3,
   "id": "7369bdc8",
   "metadata": {},
   "outputs": [],
   "source": [
    "X = df.drop(columns = ['Sales_Classification'])\n",
    "y = df['Sales_Classification']"
   ]
  },
  {
   "cell_type": "code",
   "execution_count": 4,
   "id": "d2fe5d2d",
   "metadata": {},
   "outputs": [],
   "source": [
    "# Map target labels to binary\n",
    "y = y.map({'Low': 0, 'High': 1})"
   ]
  },
  {
   "cell_type": "code",
   "execution_count": 5,
   "id": "10717b26",
   "metadata": {},
   "outputs": [
    {
     "data": {
      "text/plain": [
       "array([1, 0, 0, ..., 1, 1, 0], shape=(50000,))"
      ]
     },
     "execution_count": 5,
     "metadata": {},
     "output_type": "execute_result"
    }
   ],
   "source": [
    "y.values"
   ]
  },
  {
   "cell_type": "markdown",
   "id": "ce548787",
   "metadata": {},
   "source": [
    "## Numerical & Categorical"
   ]
  },
  {
   "cell_type": "code",
   "execution_count": 7,
   "id": "79b940e4",
   "metadata": {},
   "outputs": [],
   "source": [
    "numeric_features = X.select_dtypes(include=np.number).columns.tolist()\n",
    "categorical_features = X.select_dtypes(exclude=np.number).columns.tolist()"
   ]
  },
  {
   "cell_type": "code",
   "execution_count": 8,
   "id": "7dc665ae",
   "metadata": {},
   "outputs": [],
   "source": [
    "from sklearn.model_selection import train_test_split\n",
    "\n",
    "X_train , X_test , y_trian , y_test = train_test_split(X , y , test_size=0.2 , random_state=42 , stratify=y)"
   ]
  },
  {
   "cell_type": "markdown",
   "id": "a5ac06e0",
   "metadata": {},
   "source": [
    "## Scalling & Encoding & Pipeline "
   ]
  },
  {
   "cell_type": "code",
   "execution_count": 9,
   "id": "7f56bcef",
   "metadata": {},
   "outputs": [],
   "source": [
    "from sklearn.preprocessing import StandardScaler , OneHotEncoder\n",
    "from sklearn.compose import ColumnTransformer\n",
    "from sklearn.pipeline import Pipeline\n",
    "from sklearn.ensemble import RandomForestClassifier\n",
    "\n",
    "numerical_transformer = StandardScaler()\n",
    "categorical_transformer = OneHotEncoder(handle_unknown='ignore')\n",
    "\n",
    "# preproccessor \n",
    "\n",
    "features = [('num' , numerical_transformer , numeric_features) , ('cat' , categorical_transformer , categorical_features)]\n",
    "\n",
    "preprocessor = ColumnTransformer(features)\n",
    "\n",
    "# build pipeline \n",
    "\n",
    "steps = [('preprcoess', preprocessor), ('RF',RandomForestClassifier(random_state=42, n_estimators=100))]\n",
    "\n",
    "pipeline = Pipeline(steps)"
   ]
  },
  {
   "cell_type": "markdown",
   "id": "0560ffa5",
   "metadata": {},
   "source": [
    "## Train Model "
   ]
  },
  {
   "cell_type": "code",
   "execution_count": null,
   "id": "5b6f88e4",
   "metadata": {},
   "outputs": [
    {
     "data": {
      "text/plain": [
       "['../src/model/random_forest.pkl']"
      ]
     },
     "execution_count": 10,
     "metadata": {},
     "output_type": "execute_result"
    }
   ],
   "source": [
    "pipeline.fit(X_train , y_trian)\n",
    "joblib.dump(pipeline , \"../src/model/model.pkl\")"
   ]
  },
  {
   "cell_type": "markdown",
   "id": "500c726f",
   "metadata": {},
   "source": [
    "## Confusion Matrix"
   ]
  },
  {
   "cell_type": "code",
   "execution_count": null,
   "id": "d6d57eaa",
   "metadata": {},
   "outputs": [
    {
     "data": {
      "image/png": "[encoded data removed]",
      "text/plain": [
       "<Figure size 500x400 with 2 Axes>"
      ]
     },
     "metadata": {},
     "output_type": "display_data"
    }
   ],
   "source": [
    "from sklearn.metrics import confusion_matrix, roc_curve, auc, classification_report\n",
    "import matplotlib.pyplot as plt\n",
    "import seaborn as sns\n",
    "\n",
    "# predict : \n",
    "\n",
    "y_pred = pipeline.predict(X_test)\n",
    "\n",
    "cm = confusion_matrix(y_test, y_pred, labels=[0, 1])\n",
    "\n",
    "plt.figure(figsize=(5,4))\n",
    "sns.heatmap(cm, annot=True, fmt='d', cmap='Blues', \n",
    "            xticklabels=['Low', 'High'], yticklabels=['Low', 'High'])\n",
    "plt.title('Confusion Matrix')\n",
    "plt.ylabel('Actual')\n",
    "plt.xlabel('Predicted')\n",
    "plt.show()"
   ]
  },
  {
   "cell_type": "code",
   "execution_count": 12,
   "id": "114e36b3",
   "metadata": {},
   "outputs": [
    {
     "name": "stdout",
     "output_type": "stream",
     "text": [
      "              precision    recall  f1-score   support\n",
      "\n",
      "           0       1.00      1.00      1.00      6951\n",
      "           1       1.00      1.00      1.00      3049\n",
      "\n",
      "    accuracy                           1.00     10000\n",
      "   macro avg       1.00      1.00      1.00     10000\n",
      "weighted avg       1.00      1.00      1.00     10000\n",
      "\n"
     ]
    }
   ],
   "source": [
    "# REPORT : \n",
    "print(classification_report(y_test, y_pred))"
   ]
  },
  {
   "cell_type": "markdown",
   "id": "1ec0b274",
   "metadata": {},
   "source": [
    "## ROC \n",
    "### Receiver-operating characteristic curve"
   ]
  },
  {
   "cell_type": "code",
   "execution_count": 13,
   "id": "1fe7d439",
   "metadata": {},
   "outputs": [
    {
     "data": {
      "image/png": "[encoded data removed]",
      "text/plain": [
       "<Figure size 600x500 with 1 Axes>"
      ]
     },
     "metadata": {},
     "output_type": "display_data"
    }
   ],
   "source": [
    "y_proba = pipeline.predict_proba(X_test)[:, 1] # get the positive class of all rows \n",
    "\n",
    "# for test : print(pipeline.predict_proba(X_test))\n",
    "\n",
    "fpr, tpr, _ = roc_curve(y_test, y_proba, pos_label=1)\n",
    "roc_auc = auc(fpr, tpr)\n",
    "\n",
    "plt.figure(figsize=(6,5))\n",
    "plt.plot(fpr, tpr, color='darkorange', lw=2,label=f'ROC curve (area = {roc_auc:.2f})')\n",
    "plt.plot([0, 1], [0, 1], color='navy', lw=2, linestyle='--')\n",
    "plt.xlabel('False Positive Rate')\n",
    "plt.ylabel('True Positive Rate')\n",
    "plt.title('Receiver Operating Characteristic (ROC) Curve')\n",
    "plt.legend(loc='lower right')\n",
    "plt.show()"
   ]
  },
  {
   "cell_type": "markdown",
   "id": "6124e557",
   "metadata": {},
   "source": [
    "## Test for Production Later"
   ]
  },
  {
   "cell_type": "code",
   "execution_count": 14,
   "id": "2678fefa",
   "metadata": {},
   "outputs": [
    {
     "name": "stdout",
     "output_type": "stream",
     "text": [
      "Low\n"
     ]
    }
   ],
   "source": [
    "sample = [['i8', 2013, 'North America', 'Red', 'Hyprid', 'Auromatic',\n",
    "           1.6, 121671, 79219, 3428]]\n",
    "\n",
    "columns = ['Model','Year','Region','Color','Fuel_Type','Transmission', 'Engine_Size_L', 'Mileage_KM' , 'Price_USD','Sales_Volume']\n",
    "\n",
    "df_sample = pd.DataFrame(sample, columns=columns)\n",
    "\n",
    "print('Low' if pipeline.predict(df_sample)[0] == 0 else 'High')"
   ]
  }
 ],
 "metadata": {
  "kernelspec": {
   "display_name": "BMW",
   "language": "python",
   "name": "python3"
  },
  "language_info": {
   "codemirror_mode": {
    "name": "ipython",
    "version": 3
   },
   "file_extension": ".py",
   "mimetype": "text/x-python",
   "name": "python",
   "nbconvert_exporter": "python",
   "pygments_lexer": "ipython3",
   "version": "3.12.11"
  }
 },
 "nbformat": 4,
 "nbformat_minor": 5
}
