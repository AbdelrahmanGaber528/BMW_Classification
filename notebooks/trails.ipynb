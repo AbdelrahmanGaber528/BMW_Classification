{
 "cells": [
  {
   "cell_type": "markdown",
   "id": "e65d4e0e",
   "metadata": {},
   "source": [
    "## configbox"
   ]
  },
  {
   "cell_type": "code",
   "execution_count": 1,
   "id": "ae176a74",
   "metadata": {},
   "outputs": [],
   "source": [
    "from box import ConfigBox"
   ]
  },
  {
   "cell_type": "code",
   "execution_count": 2,
   "id": "454b54ae",
   "metadata": {},
   "outputs": [
    {
     "data": {
      "text/plain": [
       "'value1'"
      ]
     },
     "execution_count": 2,
     "metadata": {},
     "output_type": "execute_result"
    }
   ],
   "source": [
    "# just away to access keys in dictionary in eary way \n",
    "\n",
    "dic = {'key1':'value1','key2':'value2'}\n",
    "\n",
    "dic2 = ConfigBox(dic)\n",
    "\n",
    "dic2.key1"
   ]
  },
  {
   "cell_type": "code",
   "execution_count": 8,
   "id": "f2045ccb",
   "metadata": {},
   "outputs": [],
   "source": [
    "# dic.key1"
   ]
  },
  {
   "cell_type": "code",
   "execution_count": 5,
   "id": "4b9cd260",
   "metadata": {},
   "outputs": [
    {
     "data": {
      "text/plain": [
       "'value2'"
      ]
     },
     "execution_count": 5,
     "metadata": {},
     "output_type": "execute_result"
    }
   ],
   "source": [
    "dic2.key2"
   ]
  },
  {
   "cell_type": "markdown",
   "id": "fe3dcc68",
   "metadata": {},
   "source": [
    "## ensure_annotations"
   ]
  },
  {
   "cell_type": "code",
   "execution_count": 10,
   "id": "100ca207",
   "metadata": {},
   "outputs": [],
   "source": [
    "from ensure import ensure_annotations"
   ]
  },
  {
   "cell_type": "code",
   "execution_count": null,
   "id": "b504d280",
   "metadata": {},
   "outputs": [
    {
     "name": "stdout",
     "output_type": "stream",
     "text": [
      "77777\n"
     ]
    }
   ],
   "source": [
    "# to make sure the inputs for function in correct types \n",
    "\n",
    "# ex : \n",
    "def cal(x:int , y:int)->int:\n",
    "    return x*y\n",
    "\n",
    "print(cal(5,\"7\"))"
   ]
  },
  {
   "cell_type": "code",
   "execution_count": 16,
   "id": "9fcbdcc5",
   "metadata": {},
   "outputs": [],
   "source": [
    "@ensure_annotations\n",
    "def calc(x:int , y:int)->int:\n",
    "    return x*y\n",
    "\n",
    "# print(calc(5,\"5\")) # give error"
   ]
  },
  {
   "cell_type": "code",
   "execution_count": 15,
   "id": "60204597",
   "metadata": {},
   "outputs": [
    {
     "name": "stdout",
     "output_type": "stream",
     "text": [
      "30\n"
     ]
    }
   ],
   "source": [
    "@ensure_annotations\n",
    "def calc2(x:int , y:int)->int:\n",
    "    return x*y\n",
    "\n",
    "print(calc2(5,6))"
   ]
  }
 ],
 "metadata": {
  "kernelspec": {
   "display_name": "BMW",
   "language": "python",
   "name": "python3"
  },
  "language_info": {
   "codemirror_mode": {
    "name": "ipython",
    "version": 3
   },
   "file_extension": ".py",
   "mimetype": "text/x-python",
   "name": "python",
   "nbconvert_exporter": "python",
   "pygments_lexer": "ipython3",
   "version": "3.12.11"
  }
 },
 "nbformat": 4,
 "nbformat_minor": 5
}
